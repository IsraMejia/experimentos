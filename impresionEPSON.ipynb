{
 "cells": [
  {
   "attachments": {},
   "cell_type": "markdown",
   "metadata": {},
   "source": [
    "## Impresion en python de impresoras con Python 🖨🐍\n"
   ]
  },
  {
   "cell_type": "code",
   "execution_count": 26,
   "metadata": {},
   "outputs": [
    {
     "data": {
      "text/plain": [
       "42"
      ]
     },
     "execution_count": 26,
     "metadata": {},
     "output_type": "execute_result"
    }
   ],
   "source": [
    "import win32api\n",
    "import win32print\n",
    "\n",
    "ghostscript = 'C:\\\\Users\\\\IsraCode\\\\Documents\\\\Developer\\\\UNICA\\\\sotware\\\\GHOSTSCRIPT\\\\bin\\\\gswin32.exe'\n",
    "gsprint = 'C:\\\\Users\\\\IsraCode\\\\Documents\\\\Developer\\\\UNICA\\\\sotware\\\\GSPRINT\\\\gsprint.exe'\n",
    "\n",
    "#cPrinter = win32print.GetDefaultPrinter()\n",
    "cPrinter = 'EPSON L4150 Series'\n",
    "pdfFile = 'C:\\\\Users\\\\IsraCode\\\\Documents\\\\Developer\\\\UNICA\\\\PDF\\\\test_pdf_py.pdf'\n",
    "\n",
    "\n",
    "win32api.ShellExecute(  \n",
    "    0,\n",
    "    'open',\n",
    "    gsprint,\n",
    "    '-ghostscript \"'+ghostscript+'\" -printer \"'+cPrinter+'\" '+pdfFile , \n",
    "    '.',\n",
    "    0\n",
    "\n",
    ")"
   ]
  },
  {
   "cell_type": "code",
   "execution_count": 13,
   "metadata": {},
   "outputs": [
    {
     "name": "stdout",
     "output_type": "stream",
     "text": [
      "Microsoft Print to PDF\n"
     ]
    }
   ],
   "source": [
    "import win32api\n",
    "import win32print  \n",
    "\n",
    "print(win32print.GetDefaultPrinter())\n"
   ]
  },
  {
   "cell_type": "code",
   "execution_count": 25,
   "metadata": {},
   "outputs": [
    {
     "name": "stdout",
     "output_type": "stream",
     "text": [
      "(8388608, 'EPSON L4150 Series,EPSON L4150 Series,', 'EPSON L4150 Series', None)\n",
      "(8388608, 'OneNote for Windows 10,Microsoft Software Printer Driver,', 'OneNote for Windows 10', '')\n",
      "(8388608, 'OneNote (Desktop),Send to Microsoft OneNote 16 Driver,', 'OneNote (Desktop)', '')\n",
      "(8388608, 'Microsoft XPS Document Writer,Microsoft XPS Document Writer v4,', 'Microsoft XPS Document Writer', '')\n",
      "(8388608, 'Microsoft Print to PDF,Microsoft Print To PDF,', 'Microsoft Print to PDF', '')\n",
      "(8388608, 'Fax,Microsoft Shared Fax Driver,', 'Fax', '')\n"
     ]
    }
   ],
   "source": [
    "import win32print\n",
    "\n",
    "printers = win32print.EnumPrinters(2)\n",
    "for p in printers:\n",
    "    print(p)"
   ]
  }
 ],
 "metadata": {
  "kernelspec": {
   "display_name": "Python 3",
   "language": "python",
   "name": "python3"
  },
  "language_info": {
   "codemirror_mode": {
    "name": "ipython",
    "version": 3
   },
   "file_extension": ".py",
   "mimetype": "text/x-python",
   "name": "python",
   "nbconvert_exporter": "python",
   "pygments_lexer": "ipython3",
   "version": "3.11.2"
  },
  "orig_nbformat": 4
 },
 "nbformat": 4,
 "nbformat_minor": 2
}
